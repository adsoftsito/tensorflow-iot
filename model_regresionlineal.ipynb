{
  "nbformat": 4,
  "nbformat_minor": 0,
  "metadata": {
    "colab": {
      "name": "model_regresionlineal.ipynb",
      "provenance": [],
      "authorship_tag": "ABX9TyPUc7ALY8eOYHdTTAZu80Ls",
      "include_colab_link": true
    },
    "kernelspec": {
      "name": "python3",
      "display_name": "Python 3"
    }
  },
  "cells": [
    {
      "cell_type": "markdown",
      "metadata": {
        "id": "view-in-github",
        "colab_type": "text"
      },
      "source": [
        "<a href=\"https://colab.research.google.com/github/adsoftsito/tensorflow-iot/blob/main/model_regresionlineal.ipynb\" target=\"_parent\"><img src=\"https://colab.research.google.com/assets/colab-badge.svg\" alt=\"Open In Colab\"/></a>"
      ]
    },
    {
      "cell_type": "code",
      "metadata": {
        "id": "yVuIgEJ69Ick"
      },
      "source": [
        "try:\n",
        "    %tensorflow_version 2.x\n",
        "except:\n",
        "    pass"
      ],
      "execution_count": 1,
      "outputs": []
    },
    {
      "cell_type": "code",
      "metadata": {
        "colab": {
          "base_uri": "https://localhost:8080/"
        },
        "id": "wtCKaDaj9W0w",
        "outputId": "0477f123-b33e-4ec3-e1d8-c0ef7596b93e"
      },
      "source": [
        "# Helper libraries\n",
        "import numpy as np\n",
        "import os\n",
        " \n",
        "# TensorFlow\n",
        "import tensorflow as tf\n",
        " \n",
        "print(tf.__version__)"
      ],
      "execution_count": 2,
      "outputs": [
        {
          "output_type": "stream",
          "text": [
            "2.4.1\n"
          ],
          "name": "stdout"
        }
      ]
    },
    {
      "cell_type": "code",
      "metadata": {
        "colab": {
          "base_uri": "https://localhost:8080/"
        },
        "id": "ulX1XdjuAxzm",
        "outputId": "a64780c2-8284-4c0f-a590-e022cc1b2369"
      },
      "source": [
        "X = np.arange(-10.0, 10.0, 1e-2)\n",
        "np.random.shuffle(X)\n",
        "y = 2 * X + 1\n",
        "print(X)\n",
        "print(y) \n",
        "train_end = int(0.6 * len(X))\n",
        "test_start = int(0.8 * len(X))\n",
        "print(train_end)\n",
        "print(test_start) \n",
        "X_train, y_train = X[:train_end], y[:train_end]\n",
        "print(X_train)\n",
        "print(y_train)\n",
        "X_test, y_test = X[test_start:], y[test_start:]\n",
        "X_val, y_val = X[train_end:test_start], y[train_end:test_start]"
      ],
      "execution_count": 3,
      "outputs": [
        {
          "output_type": "stream",
          "text": [
            "[-4.19  4.63 -9.07 ... -5.89 -9.67 -7.64]\n",
            "[ -7.38  10.26 -17.14 ... -10.78 -18.34 -14.28]\n",
            "1200\n",
            "1600\n",
            "[-4.19  4.63 -9.07 ... -5.67 -4.28  3.77]\n",
            "[ -7.38  10.26 -17.14 ... -10.34  -7.56   8.54]\n"
          ],
          "name": "stdout"
        }
      ]
    },
    {
      "cell_type": "code",
      "metadata": {
        "colab": {
          "base_uri": "https://localhost:8080/"
        },
        "id": "Zf1Wo2uKIvKo",
        "outputId": "bb9a94dc-4b3c-4598-b462-9a20c4dfbe44"
      },
      "source": [
        "tf.keras.backend.clear_session()\n",
        "linear_model = tf.keras.models.Sequential([\n",
        "                                           tf.keras.layers.Dense(units=1, input_shape=[1], name='Single')\n",
        "                                           ])\n",
        "linear_model.compile(optimizer=tf.keras.optimizers.SGD(), loss=tf.keras.losses.mean_squared_error)\n",
        "linear_model.summary()"
      ],
      "execution_count": 4,
      "outputs": [
        {
          "output_type": "stream",
          "text": [
            "Model: \"sequential\"\n",
            "_________________________________________________________________\n",
            "Layer (type)                 Output Shape              Param #   \n",
            "=================================================================\n",
            "Single (Dense)               (None, 1)                 2         \n",
            "=================================================================\n",
            "Total params: 2\n",
            "Trainable params: 2\n",
            "Non-trainable params: 0\n",
            "_________________________________________________________________\n"
          ],
          "name": "stdout"
        }
      ]
    },
    {
      "cell_type": "code",
      "metadata": {
        "colab": {
          "base_uri": "https://localhost:8080/"
        },
        "id": "hBrQ9tHpI-UQ",
        "outputId": "1a63bd30-e340-4998-aa6b-0f07b4fc6f94"
      },
      "source": [
        "linear_model.fit(X_train, y_train, validation_data=(X_val, y_val), epochs=20)\n",
        "print(linear_model.evaluate(X_test, y_test, verbose=0))\n",
        "print(round(linear_model.predict([7.443]).tolist()[0][0], 4))    # expected: 15.886"
      ],
      "execution_count": 5,
      "outputs": [
        {
          "output_type": "stream",
          "text": [
            "Epoch 1/20\n",
            "38/38 [==============================] - 1s 12ms/step - loss: 2.2864 - val_loss: 0.2286\n",
            "Epoch 2/20\n",
            "38/38 [==============================] - 0s 2ms/step - loss: 0.1566 - val_loss: 0.0489\n",
            "Epoch 3/20\n",
            "38/38 [==============================] - 0s 2ms/step - loss: 0.0331 - val_loss: 0.0099\n",
            "Epoch 4/20\n",
            "38/38 [==============================] - 0s 2ms/step - loss: 0.0071 - val_loss: 0.0021\n",
            "Epoch 5/20\n",
            "38/38 [==============================] - 0s 2ms/step - loss: 0.0015 - val_loss: 4.6841e-04\n",
            "Epoch 6/20\n",
            "38/38 [==============================] - 0s 2ms/step - loss: 3.4194e-04 - val_loss: 9.9867e-05\n",
            "Epoch 7/20\n",
            "38/38 [==============================] - 0s 2ms/step - loss: 7.2217e-05 - val_loss: 2.3901e-05\n",
            "Epoch 8/20\n",
            "38/38 [==============================] - 0s 2ms/step - loss: 1.5697e-05 - val_loss: 4.6543e-06\n",
            "Epoch 9/20\n",
            "38/38 [==============================] - 0s 2ms/step - loss: 3.4225e-06 - val_loss: 9.8111e-07\n",
            "Epoch 10/20\n",
            "38/38 [==============================] - 0s 2ms/step - loss: 7.1091e-07 - val_loss: 2.0978e-07\n",
            "Epoch 11/20\n",
            "38/38 [==============================] - 0s 2ms/step - loss: 1.5186e-07 - val_loss: 4.5368e-08\n",
            "Epoch 12/20\n",
            "38/38 [==============================] - 0s 2ms/step - loss: 3.3623e-08 - val_loss: 1.0983e-08\n",
            "Epoch 13/20\n",
            "38/38 [==============================] - 0s 2ms/step - loss: 7.2055e-09 - val_loss: 2.1138e-09\n",
            "Epoch 14/20\n",
            "38/38 [==============================] - 0s 2ms/step - loss: 1.5344e-09 - val_loss: 4.5007e-10\n",
            "Epoch 15/20\n",
            "38/38 [==============================] - 0s 2ms/step - loss: 3.3312e-10 - val_loss: 9.5836e-11\n",
            "Epoch 16/20\n",
            "38/38 [==============================] - 0s 2ms/step - loss: 7.2327e-11 - val_loss: 2.0456e-11\n",
            "Epoch 17/20\n",
            "38/38 [==============================] - 0s 2ms/step - loss: 1.5812e-11 - val_loss: 4.4520e-12\n",
            "Epoch 18/20\n",
            "38/38 [==============================] - 0s 2ms/step - loss: 3.2342e-12 - val_loss: 1.8188e-12\n",
            "Epoch 19/20\n",
            "38/38 [==============================] - 0s 2ms/step - loss: 1.8205e-12 - val_loss: 1.6545e-12\n",
            "Epoch 20/20\n",
            "38/38 [==============================] - 0s 2ms/step - loss: 1.6972e-12 - val_loss: 1.6545e-12\n",
            "1.5627510136645428e-12\n",
            "15.886\n"
          ],
          "name": "stdout"
        }
      ]
    },
    {
      "cell_type": "code",
      "metadata": {
        "id": "tXQyALFiJMqf",
        "colab": {
          "base_uri": "https://localhost:8080/",
          "height": 136
        },
        "outputId": "2a00cf53-87d7-434c-aa39-ff0554b1935b"
      },
      "source": [
        "export_path = 'linear_model/1/'\n",
        "tf.saved_model.save(linear_model, os.path.join('/content/',export_path))\n",
        "\n",
        "from google.colab import files\n",
        "download_path = '/content/my_linear_model.zip'\n",
        "!zip -r {download_path} {export_path}\n",
        "files.download(download_path)"
      ],
      "execution_count": 6,
      "outputs": [
        {
          "output_type": "stream",
          "text": [
            "INFO:tensorflow:Assets written to: /content/linear_model/1/assets\n",
            "  adding: linear_model/1/ (stored 0%)\n",
            "  adding: linear_model/1/variables/ (stored 0%)\n",
            "  adding: linear_model/1/variables/variables.index (deflated 44%)\n",
            "  adding: linear_model/1/variables/variables.data-00000-of-00001 (deflated 63%)\n",
            "  adding: linear_model/1/saved_model.pb (deflated 85%)\n",
            "  adding: linear_model/1/assets/ (stored 0%)\n"
          ],
          "name": "stdout"
        },
        {
          "output_type": "display_data",
          "data": {
            "application/javascript": [
              "\n",
              "    async function download(id, filename, size) {\n",
              "      if (!google.colab.kernel.accessAllowed) {\n",
              "        return;\n",
              "      }\n",
              "      const div = document.createElement('div');\n",
              "      const label = document.createElement('label');\n",
              "      label.textContent = `Downloading \"${filename}\": `;\n",
              "      div.appendChild(label);\n",
              "      const progress = document.createElement('progress');\n",
              "      progress.max = size;\n",
              "      div.appendChild(progress);\n",
              "      document.body.appendChild(div);\n",
              "\n",
              "      const buffers = [];\n",
              "      let downloaded = 0;\n",
              "\n",
              "      const channel = await google.colab.kernel.comms.open(id);\n",
              "      // Send a message to notify the kernel that we're ready.\n",
              "      channel.send({})\n",
              "\n",
              "      for await (const message of channel.messages) {\n",
              "        // Send a message to notify the kernel that we're ready.\n",
              "        channel.send({})\n",
              "        if (message.buffers) {\n",
              "          for (const buffer of message.buffers) {\n",
              "            buffers.push(buffer);\n",
              "            downloaded += buffer.byteLength;\n",
              "            progress.value = downloaded;\n",
              "          }\n",
              "        }\n",
              "      }\n",
              "      const blob = new Blob(buffers, {type: 'application/binary'});\n",
              "      const a = document.createElement('a');\n",
              "      a.href = window.URL.createObjectURL(blob);\n",
              "      a.download = filename;\n",
              "      div.appendChild(a);\n",
              "      a.click();\n",
              "      div.remove();\n",
              "    }\n",
              "  "
            ],
            "text/plain": [
              "<IPython.core.display.Javascript object>"
            ]
          },
          "metadata": {
            "tags": []
          }
        },
        {
          "output_type": "display_data",
          "data": {
            "application/javascript": [
              "download(\"download_646baed6-782b-48ba-a4e0-82cbec78df01\", \"my_linear_model.zip\", 8273)"
            ],
            "text/plain": [
              "<IPython.core.display.Javascript object>"
            ]
          },
          "metadata": {
            "tags": []
          }
        }
      ]
    }
  ]
}